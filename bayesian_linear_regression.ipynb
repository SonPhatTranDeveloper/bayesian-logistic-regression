{
 "cells": [
  {
   "cell_type": "markdown",
   "source": [
    "# Bayesian Logistic Regression"
   ],
   "metadata": {
    "collapsed": false
   },
   "id": "67da9e7f9833086e"
  },
  {
   "cell_type": "code",
   "execution_count": 1,
   "outputs": [],
   "source": [
    "import numpy as np\n",
    "import matplotlib.pyplot as plt"
   ],
   "metadata": {
    "collapsed": false,
    "ExecuteTime": {
     "end_time": "2024-01-06T05:09:16.270271Z",
     "start_time": "2024-01-06T05:09:09.229402Z"
    }
   },
   "id": "144d757e172f138f"
  },
  {
   "cell_type": "markdown",
   "source": [
    "## Generate synthetic data"
   ],
   "metadata": {
    "collapsed": false
   },
   "id": "8c307352047c2600"
  },
  {
   "cell_type": "code",
   "execution_count": 4,
   "outputs": [],
   "source": [
    "# Define the number of datapoints per blob\n",
    "num_blob_1 = 50\n",
    "num_blob_2 = 50\n",
    "\n",
    "# Define the mean of the datapoints\n",
    "muy_1 = [0, 0]\n",
    "muy_2 = [5, 0]\n",
    "\n",
    "# Define the covariance matrices\n",
    "cov = np.array([\n",
    "    [1, 0],\n",
    "    [0, 1]\n",
    "])\n",
    "\n",
    "# Generate the datapoints\n",
    "np.random.seed(80)\n",
    "blob_1 = np.random.multivariate_normal(mean=muy_1, cov=cov, size=num_blob_1)\n",
    "blob_2 = np.random.multivariate_normal(mean=muy_2, cov=cov, size=num_blob_2)"
   ],
   "metadata": {
    "collapsed": false,
    "ExecuteTime": {
     "end_time": "2024-01-06T05:10:00.771585Z",
     "start_time": "2024-01-06T05:10:00.770459Z"
    }
   },
   "id": "e9ccd3ec895c146a"
  },
  {
   "cell_type": "code",
   "execution_count": 5,
   "outputs": [
    {
     "data": {
      "text/plain": "<Figure size 640x480 with 1 Axes>",
      "image/png": "[encoded data removed]"
     },
     "metadata": {},
     "output_type": "display_data"
    }
   ],
   "source": [
    "# Display the datapoints\n",
    "plt.scatter(blob_1[:, 0], blob_1[:, 1], color='blue', label='1st mixture')\n",
    "plt.scatter(blob_2[:, 0], blob_2[:, 1], color='orange', label='2nd mixture')\n",
    "plt.legend()\n",
    "plt.show()"
   ],
   "metadata": {
    "collapsed": false,
    "ExecuteTime": {
     "end_time": "2024-01-06T05:10:01.293424Z",
     "start_time": "2024-01-06T05:10:01.213187Z"
    }
   },
   "id": "70c84691078ab866"
  },
  {
   "cell_type": "code",
   "execution_count": 34,
   "outputs": [],
   "source": [
    "# Add x_0\n",
    "x_1 = np.hstack((np.ones(blob_1.shape[0]).reshape(-1, 1), blob_1))\n",
    "x_2 = np.hstack((np.ones(blob_2.shape[0]).reshape(-1, 1), blob_2))\n",
    "\n",
    "# Merge the dataset\n",
    "X = np.vstack((x_1, x_2))\n",
    "t = np.array([1] * num_blob_1 + [0] * num_blob_2)"
   ],
   "metadata": {
    "collapsed": false,
    "ExecuteTime": {
     "end_time": "2024-01-06T05:57:09.349518Z",
     "start_time": "2024-01-06T05:57:09.343905Z"
    }
   },
   "id": "1225ab079415981"
  },
  {
   "cell_type": "markdown",
   "source": [
    "## Bayesian Logistic Regression implementation"
   ],
   "metadata": {
    "collapsed": false
   },
   "id": "72b454e457e5c097"
  },
  {
   "cell_type": "code",
   "execution_count": 93,
   "outputs": [],
   "source": [
    "# Define the posterior distribution of w\n",
    "m_0 = np.zeros(3)\n",
    "S_0 = np.eye(3) * 5"
   ],
   "metadata": {
    "collapsed": false,
    "ExecuteTime": {
     "end_time": "2024-01-06T06:10:00.138289Z",
     "start_time": "2024-01-06T06:10:00.132261Z"
    }
   },
   "id": "c68eb871ed7d4e5f"
  },
  {
   "cell_type": "code",
   "execution_count": 94,
   "outputs": [],
   "source": [
    "def calculate_prediction(X, w):\n",
    "    \"\"\"\n",
    "    Calculate y_n\n",
    "    :param X: the train features\n",
    "    :param w: the train labels\n",
    "    :return: the value of the prediction\n",
    "    \"\"\"\n",
    "    z = np.dot(X, w)\n",
    "    y = 1 / (1 + np.exp(-z))\n",
    "    return y\n",
    "\n",
    "def calculate_cost(X, t, m_0, S_0, w):\n",
    "    \"\"\"\n",
    "    Calculate the cost function\n",
    "    :param X: the train features\n",
    "    :param t: the train labels\n",
    "    :param w: the parameters\n",
    "    :return: the value of the cost function\n",
    "    \"\"\"\n",
    "    y = calculate_prediction(X, w)\n",
    "    likelihood_cost = - np.sum(t * np.log(y) + (1 - t) * np.log(1 - y))\n",
    "    posterior_cost = (1 / 2) * np.dot(w - m_0, np.linalg.solve(S_0, w - m_0))\n",
    "    return likelihood_cost + posterior_cost\n",
    "\n",
    "def find_posterior_mean(X_train, t_train, S_0, m_0, learning_rate=0.01, epochs=100):\n",
    "    \"\"\"\n",
    "    Find the posterior mean of the approximated posterior distribution (m_N or w_map)\n",
    "    :param X_train: the train features\n",
    "    :param t_train: the train labels\n",
    "    :param S_0: prior covariance\n",
    "    :param m_0: prior mean\n",
    "    :return: the posterior mean\n",
    "    \"\"\"\n",
    "    # Initialize w_map\n",
    "    w_map = np.random.randn(m_0.shape[0])\n",
    "    \n",
    "    # Save the costs\n",
    "    costs = []\n",
    "    \n",
    "    # Go through epochs\n",
    "    for epoch in range(epochs):\n",
    "        # Calculate the prediction\n",
    "        y = calculate_prediction(X_train, w_map)\n",
    "        \n",
    "        # Calculate the gradient\n",
    "        d_w_map = np.linalg.solve(S_0, w_map - m_0) - np.dot(X_train.T, y - t)\n",
    "        \n",
    "        # Update w_map using the gradient\n",
    "        w_map = w_map + learning_rate * d_w_map\n",
    "    \n",
    "        # Calculate the cost\n",
    "        cost = calculate_cost(X_train, t_train, m_0, S_0, w_map)\n",
    "        costs.append(cost)\n",
    "        print(f\"EPOCHS: {epoch} - Cost: {cost}\")\n",
    "        \n",
    "    return w_map, costs\n",
    "        \n",
    "    \n",
    "def find_posterior_covariance(X_train, m_N, S_0):\n",
    "    \"\"\"\n",
    "    Calculate the covariance matrix of the approximated Gaussian distribution\n",
    "    :param X_train: the train features\n",
    "    :param S_0: prior covariance\n",
    "    :return: the posterior covariance\n",
    "    \"\"\"\n",
    "    # Calculate the prediction\n",
    "    y = calculate_prediction(X_train, m_N)\n",
    "    return np.linalg.inv(S_0) + X_train.T @ np.diag(y * (1 - y)) @ X_train\n",
    "\n",
    "\n",
    "def find_posterior_distribution(X_train, t_train, S_0, m_0, learning_rate=0.01, epochs=100):\n",
    "    \"\"\"\n",
    "    Performance Laplace approximation on the posterior distribution of w\n",
    "    :param X_train: the train features\n",
    "    :param t_train: the train labels\n",
    "    :param S_0: prior covariance\n",
    "    :param m_0: prior mean\n",
    "    :param learning_rate: learning rate\n",
    "    :param epochs: epochs\n",
    "    :return: the posterior mean and covariance (m_N and S_N)\n",
    "    \"\"\"\n",
    "    m_N, costs = find_posterior_mean(X_train, t_train, S_0, m_0, learning_rate=learning_rate, epochs=epochs)\n",
    "    S_N = find_posterior_covariance(X_train, m_N, S_0)\n",
    "    return m_N, S_N, costs"
   ],
   "metadata": {
    "collapsed": false,
    "ExecuteTime": {
     "end_time": "2024-01-06T06:10:00.360698Z",
     "start_time": "2024-01-06T06:10:00.343420Z"
    }
   },
   "id": "ce89e8ecba3abcb4"
  },
  {
   "cell_type": "code",
   "execution_count": 98,
   "outputs": [
    {
     "name": "stdout",
     "output_type": "stream",
     "text": [
      "EPOCHS: 0 - Cost: 65.0592645555637\n",
      "EPOCHS: 1 - Cost: 54.60396007575131\n",
      "EPOCHS: 2 - Cost: 46.24099163990021\n",
      "EPOCHS: 3 - Cost: 39.6674660078794\n",
      "EPOCHS: 4 - Cost: 34.53696762346202\n",
      "EPOCHS: 5 - Cost: 30.522158754836322\n",
      "EPOCHS: 6 - Cost: 27.347753482285018\n",
      "EPOCHS: 7 - Cost: 24.80049506903192\n",
      "EPOCHS: 8 - Cost: 22.72303270650953\n",
      "EPOCHS: 9 - Cost: 21.00165214731932\n",
      "EPOCHS: 10 - Cost: 19.554360994372413\n",
      "EPOCHS: 11 - Cost: 18.321549882249112\n",
      "EPOCHS: 12 - Cost: 17.259293599312013\n",
      "EPOCHS: 13 - Cost: 16.334715347231004\n",
      "EPOCHS: 14 - Cost: 15.522811218028187\n",
      "EPOCHS: 15 - Cost: 14.804268389616727\n",
      "EPOCHS: 16 - Cost: 14.16395138258565\n",
      "EPOCHS: 17 - Cost: 13.58983804231648\n",
      "EPOCHS: 18 - Cost: 13.072260791433116\n",
      "EPOCHS: 19 - Cost: 12.603357563577951\n",
      "EPOCHS: 20 - Cost: 12.176668712241609\n",
      "EPOCHS: 21 - Cost: 11.786836977161098\n",
      "EPOCHS: 22 - Cost: 11.429381230314728\n",
      "EPOCHS: 23 - Cost: 11.100523761074985\n",
      "EPOCHS: 24 - Cost: 10.797056919050918\n",
      "EPOCHS: 25 - Cost: 10.516239046710268\n",
      "EPOCHS: 26 - Cost: 10.255712462754762\n",
      "EPOCHS: 27 - Cost: 10.01343822756426\n",
      "EPOCHS: 28 - Cost: 9.787643811516116\n",
      "EPOCHS: 29 - Cost: 9.576780778641199\n",
      "EPOCHS: 30 - Cost: 9.379490313946535\n",
      "EPOCHS: 31 - Cost: 9.194574945173645\n",
      "EPOCHS: 32 - Cost: 9.020975195000569\n",
      "EPOCHS: 33 - Cost: 8.85775018656208\n",
      "EPOCHS: 34 - Cost: 8.704061440767806\n",
      "EPOCHS: 35 - Cost: 8.5591592673721\n",
      "EPOCHS: 36 - Cost: 8.422371276731157\n",
      "EPOCHS: 37 - Cost: 8.293092635488504\n",
      "EPOCHS: 38 - Cost: 8.170777764193796\n",
      "EPOCHS: 39 - Cost: 8.054933233309717\n",
      "EPOCHS: 40 - Cost: 7.945111660064356\n",
      "EPOCHS: 41 - Cost: 7.84090644504165\n",
      "EPOCHS: 42 - Cost: 7.7419472164350385\n",
      "EPOCHS: 43 - Cost: 7.647895873155001\n",
      "EPOCHS: 44 - Cost: 7.558443136727777\n",
      "EPOCHS: 45 - Cost: 7.4733055371055785\n",
      "EPOCHS: 46 - Cost: 7.392222769866843\n",
      "EPOCHS: 47 - Cost: 7.314955372391113\n",
      "EPOCHS: 48 - Cost: 7.241282674894999\n",
      "EPOCHS: 49 - Cost: 7.17100098906451\n",
      "EPOCHS: 50 - Cost: 7.103922002692624\n",
      "EPOCHS: 51 - Cost: 7.039871353449534\n",
      "EPOCHS: 52 - Cost: 6.978687358851945\n",
      "EPOCHS: 53 - Cost: 6.920219882798051\n",
      "EPOCHS: 54 - Cost: 6.864329321809515\n",
      "EPOCHS: 55 - Cost: 6.810885696462349\n",
      "EPOCHS: 56 - Cost: 6.759767835469318\n",
      "EPOCHS: 57 - Cost: 6.710862641558104\n",
      "EPOCHS: 58 - Cost: 6.664064429720931\n",
      "EPOCHS: 59 - Cost: 6.619274329633952\n",
      "EPOCHS: 60 - Cost: 6.576399745091285\n",
      "EPOCHS: 61 - Cost: 6.535353864197226\n",
      "EPOCHS: 62 - Cost: 6.496055214833697\n",
      "EPOCHS: 63 - Cost: 6.458427260587266\n",
      "EPOCHS: 64 - Cost: 6.422398032897544\n",
      "EPOCHS: 65 - Cost: 6.387899795689165\n",
      "EPOCHS: 66 - Cost: 6.35486873918445\n",
      "EPOCHS: 67 - Cost: 6.323244699972724\n",
      "EPOCHS: 68 - Cost: 6.292970904742635\n",
      "EPOCHS: 69 - Cost: 6.26399373537301\n",
      "EPOCHS: 70 - Cost: 6.236262513330886\n",
      "EPOCHS: 71 - Cost: 6.209729301547897\n",
      "EPOCHS: 72 - Cost: 6.1843487221415945\n",
      "EPOCHS: 73 - Cost: 6.160077788520715\n",
      "EPOCHS: 74 - Cost: 6.136875750565535\n",
      "EPOCHS: 75 - Cost: 6.114703951708892\n",
      "EPOCHS: 76 - Cost: 6.093525696862709\n",
      "EPOCHS: 77 - Cost: 6.073306130240501\n",
      "EPOCHS: 78 - Cost: 6.054012122220253\n",
      "EPOCHS: 79 - Cost: 6.035612164475774\n",
      "EPOCHS: 80 - Cost: 6.018076272678972\n",
      "EPOCHS: 81 - Cost: 6.001375896142146\n",
      "EPOCHS: 82 - Cost: 5.985483833828799\n",
      "EPOCHS: 83 - Cost: 5.970374156214648\n",
      "EPOCHS: 84 - Cost: 5.956022132528274\n",
      "EPOCHS: 85 - Cost: 5.942404162943664\n",
      "EPOCHS: 86 - Cost: 5.929497715335293\n",
      "EPOCHS: 87 - Cost: 5.917281266241183\n",
      "EPOCHS: 88 - Cost: 5.905734245710356\n",
      "EPOCHS: 89 - Cost: 5.894836985739445\n",
      "EPOCHS: 90 - Cost: 5.8845706720285085\n",
      "EPOCHS: 91 - Cost: 5.874917298809095\n",
      "EPOCHS: 92 - Cost: 5.865859626518455\n",
      "EPOCHS: 93 - Cost: 5.857381142112577\n",
      "EPOCHS: 94 - Cost: 5.84946602182785\n",
      "EPOCHS: 95 - Cost: 5.842099096216691\n",
      "EPOCHS: 96 - Cost: 5.835265817296563\n",
      "EPOCHS: 97 - Cost: 5.828952227664674\n",
      "EPOCHS: 98 - Cost: 5.823144931442322\n",
      "EPOCHS: 99 - Cost: 5.81783106692351\n",
      "EPOCHS: 100 - Cost: 5.81299828081226\n",
      "EPOCHS: 101 - Cost: 5.808634703941797\n",
      "EPOCHS: 102 - Cost: 5.804728928377077\n",
      "EPOCHS: 103 - Cost: 5.8012699858094265\n",
      "EPOCHS: 104 - Cost: 5.798247327158943\n",
      "EPOCHS: 105 - Cost: 5.795650803306554\n",
      "EPOCHS: 106 - Cost: 5.793470646883311\n",
      "EPOCHS: 107 - Cost: 5.791697455049811\n",
      "EPOCHS: 108 - Cost: 5.790322173203428\n",
      "EPOCHS: 109 - Cost: 5.789336079555516\n",
      "EPOCHS: 110 - Cost: 5.78873077052479\n",
      "EPOCHS: 111 - Cost: 5.788498146896935\n",
      "EPOCHS: 112 - Cost: 5.788630400703869\n",
      "EPOCHS: 113 - Cost: 5.7891200027793746\n",
      "EPOCHS: 114 - Cost: 5.789959690950739\n",
      "EPOCHS: 115 - Cost: 5.791142458828745\n",
      "EPOCHS: 116 - Cost: 5.792661545160936\n",
      "EPOCHS: 117 - Cost: 5.794510423715382\n",
      "EPOCHS: 118 - Cost: 5.7966827936643375\n",
      "EPOCHS: 119 - Cost: 5.799172570439189\n",
      "EPOCHS: 120 - Cost: 5.801973877029964\n",
      "EPOCHS: 121 - Cost: 5.805081035704353\n",
      "EPOCHS: 122 - Cost: 5.808488560122848\n",
      "EPOCHS: 123 - Cost: 5.812191147828045\n",
      "EPOCHS: 124 - Cost: 5.81618367308754\n",
      "EPOCHS: 125 - Cost: 5.820461180071176\n",
      "EPOCHS: 126 - Cost: 5.825018876344508\n",
      "EPOCHS: 127 - Cost: 5.82985212666157\n",
      "EPOCHS: 128 - Cost: 5.834956447040932\n",
      "EPOCHS: 129 - Cost: 5.840327499110159\n",
      "EPOCHS: 130 - Cost: 5.845961084704498\n",
      "EPOCHS: 131 - Cost: 5.851853140706652\n",
      "EPOCHS: 132 - Cost: 5.8579997341150944\n",
      "EPOCHS: 133 - Cost: 5.864397057329292\n",
      "EPOCHS: 134 - Cost: 5.871041423640687\n",
      "EPOCHS: 135 - Cost: 5.8779292629191415\n",
      "EPOCHS: 136 - Cost: 5.8850571174849655\n",
      "EPOCHS: 137 - Cost: 5.892421638157316\n",
      "EPOCHS: 138 - Cost: 5.900019580470211\n",
      "EPOCHS: 139 - Cost: 5.907847801047987\n",
      "EPOCHS: 140 - Cost: 5.915903254132347\n",
      "EPOCHS: 141 - Cost: 5.924182988253715\n",
      "EPOCHS: 142 - Cost: 5.932684143039929\n",
      "EPOCHS: 143 - Cost: 5.94140394615572\n",
      "EPOCHS: 144 - Cost: 5.950339710366777\n",
      "EPOCHS: 145 - Cost: 5.95948883072252\n",
      "EPOCHS: 146 - Cost: 5.968848781852033\n",
      "EPOCHS: 147 - Cost: 5.97841711536789\n",
      "EPOCHS: 148 - Cost: 5.988191457372889\n",
      "EPOCHS: 149 - Cost: 5.998169506065002\n",
      "EPOCHS: 150 - Cost: 6.008349029436014\n",
      "EPOCHS: 151 - Cost: 6.018727863059656\n",
      "EPOCHS: 152 - Cost: 6.029303907965193\n",
      "EPOCHS: 153 - Cost: 6.040075128592629\n",
      "EPOCHS: 154 - Cost: 6.051039550825925\n",
      "EPOCHS: 155 - Cost: 6.0621952601008\n",
      "EPOCHS: 156 - Cost: 6.073540399583797\n",
      "EPOCHS: 157 - Cost: 6.085073168419573\n",
      "EPOCHS: 158 - Cost: 6.096791820043398\n",
      "EPOCHS: 159 - Cost: 6.108694660556113\n",
      "EPOCHS: 160 - Cost: 6.120780047158815\n",
      "EPOCHS: 161 - Cost: 6.133046386644799\n",
      "EPOCHS: 162 - Cost: 6.145492133946285\n",
      "EPOCHS: 163 - Cost: 6.158115790733647\n",
      "EPOCHS: 164 - Cost: 6.170915904064961\n",
      "EPOCHS: 165 - Cost: 6.183891065083779\n",
      "EPOCHS: 166 - Cost: 6.197039907763128\n",
      "EPOCHS: 167 - Cost: 6.210361107693863\n",
      "EPOCHS: 168 - Cost: 6.223853380915551\n",
      "EPOCHS: 169 - Cost: 6.237515482788153\n",
      "EPOCHS: 170 - Cost: 6.251346206902892\n",
      "EPOCHS: 171 - Cost: 6.2653443840306995\n",
      "EPOCHS: 172 - Cost: 6.2795088811067785\n",
      "EPOCHS: 173 - Cost: 6.293838600249837\n",
      "EPOCHS: 174 - Cost: 6.308332477814609\n",
      "EPOCHS: 175 - Cost: 6.322989483476409\n",
      "EPOCHS: 176 - Cost: 6.337808619346413\n",
      "EPOCHS: 177 - Cost: 6.352788919116535\n",
      "EPOCHS: 178 - Cost: 6.367929447232702\n",
      "EPOCHS: 179 - Cost: 6.383229298095504\n",
      "EPOCHS: 180 - Cost: 6.398687595287119\n",
      "EPOCHS: 181 - Cost: 6.414303490823537\n",
      "EPOCHS: 182 - Cost: 6.430076164431166\n",
      "EPOCHS: 183 - Cost: 6.446004822846844\n",
      "EPOCHS: 184 - Cost: 6.462088699140438\n",
      "EPOCHS: 185 - Cost: 6.478327052059162\n",
      "EPOCHS: 186 - Cost: 6.4947191653928344\n",
      "EPOCHS: 187 - Cost: 6.511264347359282\n",
      "EPOCHS: 188 - Cost: 6.5279619300091944\n",
      "EPOCHS: 189 - Cost: 6.544811268649672\n",
      "EPOCHS: 190 - Cost: 6.561811741285846\n",
      "EPOCHS: 191 - Cost: 6.578962748079875\n",
      "EPOCHS: 192 - Cost: 6.5962637108267455\n",
      "EPOCHS: 193 - Cost: 6.613714072446227\n",
      "EPOCHS: 194 - Cost: 6.631313296490452\n",
      "EPOCHS: 195 - Cost: 6.649060866666556\n",
      "EPOCHS: 196 - Cost: 6.666956286373844\n",
      "EPOCHS: 197 - Cost: 6.684999078254987\n",
      "EPOCHS: 198 - Cost: 6.703188783760774\n",
      "EPOCHS: 199 - Cost: 6.721524962727916\n",
      "EPOCHS: 200 - Cost: 6.740007192969491\n",
      "EPOCHS: 201 - Cost: 6.758635069877592\n",
      "EPOCHS: 202 - Cost: 6.777408206037734\n",
      "EPOCHS: 203 - Cost: 6.79632623085467\n",
      "EPOCHS: 204 - Cost: 6.815388790189194\n",
      "EPOCHS: 205 - Cost: 6.834595546005578\n",
      "EPOCHS: 206 - Cost: 6.853946176029295\n",
      "EPOCHS: 207 - Cost: 6.873440373414675\n",
      "EPOCHS: 208 - Cost: 6.893077846422171\n",
      "EPOCHS: 209 - Cost: 6.912858318104926\n",
      "EPOCHS: 210 - Cost: 6.932781526004332\n",
      "EPOCHS: 211 - Cost: 6.952847221854277\n",
      "EPOCHS: 212 - Cost: 6.973055171293829\n",
      "EPOCHS: 213 - Cost: 6.99340515358805\n",
      "EPOCHS: 214 - Cost: 7.013896961356714\n",
      "EPOCHS: 215 - Cost: 7.034530400310634\n",
      "EPOCHS: 216 - Cost: 7.055305288995413\n",
      "EPOCHS: 217 - Cost: 7.0762214585423315\n",
      "EPOCHS: 218 - Cost: 7.0972787524261705\n",
      "EPOCHS: 219 - Cost: 7.118477026229763\n",
      "EPOCHS: 220 - Cost: 7.139816147415038\n",
      "EPOCHS: 221 - Cost: 7.161295995100387\n",
      "EPOCHS: 222 - Cost: 7.1829164598441215\n",
      "EPOCHS: 223 - Cost: 7.204677443433875\n",
      "EPOCHS: 224 - Cost: 7.226578858681715\n",
      "EPOCHS: 225 - Cost: 7.2486206292248685\n",
      "EPOCHS: 226 - Cost: 7.270802689331801\n",
      "EPOCHS: 227 - Cost: 7.293124983713552\n",
      "EPOCHS: 228 - Cost: 7.315587467340149\n",
      "EPOCHS: 229 - Cost: 7.338190105261933\n",
      "EPOCHS: 230 - Cost: 7.360932872435692\n",
      "EPOCHS: 231 - Cost: 7.383815753555396\n",
      "EPOCHS: 232 - Cost: 7.406838742887455\n",
      "EPOCHS: 233 - Cost: 7.430001844110347\n",
      "EPOCHS: 234 - Cost: 7.453305070158476\n",
      "EPOCHS: 235 - Cost: 7.476748443070143\n",
      "EPOCHS: 236 - Cost: 7.500331993839533\n",
      "EPOCHS: 237 - Cost: 7.524055762272575\n",
      "EPOCHS: 238 - Cost: 7.5479197968465614\n",
      "EPOCHS: 239 - Cost: 7.57192415457345\n",
      "EPOCHS: 240 - Cost: 7.596068900866705\n",
      "EPOCHS: 241 - Cost: 7.620354109411621\n",
      "EPOCHS: 242 - Cost: 7.644779862038966\n",
      "EPOCHS: 243 - Cost: 7.669346248601946\n",
      "EPOCHS: 244 - Cost: 7.694053366856281\n",
      "EPOCHS: 245 - Cost: 7.718901322343413\n",
      "EPOCHS: 246 - Cost: 7.743890228276703\n",
      "EPOCHS: 247 - Cost: 7.769020205430526\n",
      "EPOCHS: 248 - Cost: 7.79429138203222\n",
      "EPOCHS: 249 - Cost: 7.819703893656801\n"
     ]
    }
   ],
   "source": [
    "# Find the posterior mean and covariance\n",
    "m_N, S_N, costs = find_posterior_distribution(X, t, S_0, m_0, learning_rate=0.01, epochs=250)"
   ],
   "metadata": {
    "collapsed": false,
    "ExecuteTime": {
     "end_time": "2024-01-06T06:10:12.981146Z",
     "start_time": "2024-01-06T06:10:12.963187Z"
    }
   },
   "id": "c68829b0a4fe1890"
  },
  {
   "cell_type": "code",
   "execution_count": 111,
   "outputs": [
    {
     "data": {
      "text/plain": "<Figure size 640x480 with 1 Axes>",
      "image/png": "[encoded data removed]"
     },
     "metadata": {},
     "output_type": "display_data"
    }
   ],
   "source": [
    "# The w parameters\n",
    "w_0, w_1, w_2 = m_N[0], m_N[1], m_N[2]\n",
    "\n",
    "# Calculate starting and ending points\n",
    "x_1 = 2.28\n",
    "y_1 = (-w_0 - w_1 * x_1) / w_2\n",
    "x_2 = 2.4\n",
    "y_2 = (-w_0 - w_1 * x_2) / w_2\n",
    "\n",
    "# Draw the boundary\n",
    "plt.scatter(blob_1[:, 0], blob_1[:, 1], color='blue', label='1st mixture')\n",
    "plt.scatter(blob_2[:, 0], blob_2[:, 1], color='orange', label='2nd mixture')\n",
    "plt.plot([x_1, x_2], [y_1, y_2], label='Decision boundary')\n",
    "plt.legend()\n",
    "plt.savefig(\"figures/line.png\")\n",
    "plt.show()"
   ],
   "metadata": {
    "collapsed": false,
    "ExecuteTime": {
     "end_time": "2024-01-06T06:25:59.001300Z",
     "start_time": "2024-01-06T06:25:58.876189Z"
    }
   },
   "id": "ee0d9b2531d03ef8"
  },
  {
   "cell_type": "code",
   "execution_count": 112,
   "outputs": [
    {
     "data": {
      "text/plain": "<Figure size 640x480 with 1 Axes>",
      "image/png": "[encoded data removed]"
     },
     "metadata": {},
     "output_type": "display_data"
    }
   ],
   "source": [
    "# Draw the costs\n",
    "plt.plot(np.arange(250), costs)\n",
    "plt.xlabel(\"epochs\")\n",
    "plt.ylabel(\"cost\")\n",
    "plt.title(\"Training curve\")\n",
    "plt.savefig(\"figures/train.png\")\n",
    "plt.show()"
   ],
   "metadata": {
    "collapsed": false,
    "ExecuteTime": {
     "end_time": "2024-01-06T06:25:59.729198Z",
     "start_time": "2024-01-06T06:25:59.629799Z"
    }
   },
   "id": "d17140e3b9c6afcd"
  },
  {
   "cell_type": "code",
   "execution_count": 105,
   "outputs": [],
   "source": [
    "# Calculate the prediction using the predictive distribution\n",
    "def predictive_distribution(X_test, m_N, S_N):\n",
    "    \"\"\"\n",
    "    Calculate the prediction using the Bayesian method\n",
    "    :param X_test: the test features\n",
    "    :param m_n: posterior mean\n",
    "    :param S_N: posterior covariance\n",
    "    :return: p(C_1 | x)\n",
    "    \"\"\"\n",
    "    predictions = []\n",
    "    \n",
    "    for x_test in X_test:\n",
    "        mu_a = np.dot(x_test, m_N)\n",
    "        sigma_a = np.dot(x_test, np.dot(S_N, x_test))\n",
    "        val = mu_a / np.sqrt(1 + np.pi * sigma_a / 8)\n",
    "        predictions.append(1 / (1 + np.exp(-val)))\n",
    "        \n",
    "    return np.array(predictions)"
   ],
   "metadata": {
    "collapsed": false,
    "ExecuteTime": {
     "end_time": "2024-01-06T06:21:40.498875Z",
     "start_time": "2024-01-06T06:21:40.481102Z"
    }
   },
   "id": "460da975829a8df3"
  },
  {
   "cell_type": "code",
   "execution_count": 110,
   "outputs": [
    {
     "name": "stdout",
     "output_type": "stream",
     "text": [
      "The accuracy is 1.0\n"
     ]
    }
   ],
   "source": [
    "# Calculate the prediction\n",
    "y = predictive_distribution(X, m_N, S_N)\n",
    "accuracy = np.sum((y >= 0.5) == t) / len(t)\n",
    "print(f\"The accuracy is {accuracy}\")"
   ],
   "metadata": {
    "collapsed": false,
    "ExecuteTime": {
     "end_time": "2024-01-06T06:24:07.748691Z",
     "start_time": "2024-01-06T06:24:07.741071Z"
    }
   },
   "id": "604405bc21b7001"
  }
 ],
 "metadata": {
  "kernelspec": {
   "display_name": "Python 3",
   "language": "python",
   "name": "python3"
  },
  "language_info": {
   "codemirror_mode": {
    "name": "ipython",
    "version": 2
   },
   "file_extension": ".py",
   "mimetype": "text/x-python",
   "name": "python",
   "nbconvert_exporter": "python",
   "pygments_lexer": "ipython2",
   "version": "2.7.6"
  }
 },
 "nbformat": 4,
 "nbformat_minor": 5
}
